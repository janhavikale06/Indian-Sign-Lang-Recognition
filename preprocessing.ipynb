{
 "cells": [
  {
   "attachments": {},
   "cell_type": "markdown",
   "metadata": {},
   "source": [
    "To convert rgb images into grayscale images"
   ]
  },
  {
   "cell_type": "code",
   "execution_count": 1,
   "metadata": {},
   "outputs": [],
   "source": [
    "import os\n",
    "import cv2"
   ]
  },
  {
   "cell_type": "code",
   "execution_count": 12,
   "metadata": {},
   "outputs": [
    {
     "name": "stdout",
     "output_type": "stream",
     "text": [
      "Directory already exist, images will be stored in the folder\n"
     ]
    }
   ],
   "source": [
    "path = r'C:\\Users\\janha\\Downloads\\IndianSignLangangueVideo\\Train' #Source Folder\n",
    "dstpath = r'C:\\Users\\janha\\Downloads\\IndianSignLangangueVideo\\Grayscaleimg' #Destination Folder\n",
    "\n",
    "try:\n",
    "    makedirs(dstpath)\n",
    "except:\n",
    "    print (\"Directory already exist, images will be stored in the folder\")\n",
    "\n",
    "#Folder won't used\n",
    "files = os.listdir(path)\n",
    "\n",
    "for image in files:\n",
    "    img = cv2.imread(os.path.join(path , image))\n",
    "\n",
    "    #Converting rgb image to grayscale\n",
    "    gray = cv2.cvtColor(img , cv2.COLOR_BGR2GRAY)\n",
    "\n",
    "    #Displaying the images\n",
    "    cv2.imwrite(os.path.join(dstpath , image) , gray)"
   ]
  },
  {
   "attachments": {},
   "cell_type": "markdown",
   "metadata": {},
   "source": [
    "To detect the edges of images"
   ]
  },
  {
   "cell_type": "code",
   "execution_count": 13,
   "metadata": {},
   "outputs": [
    {
     "name": "stdout",
     "output_type": "stream",
     "text": [
      "Images will be stored in the folder\n"
     ]
    }
   ],
   "source": [
    "graypath = r'C:\\Users\\janha\\Downloads\\IndianSignLangangueVideo\\Grayscaleimg' \n",
    "edgepath = r'C:\\Users\\janha\\Downloads\\IndianSignLangangueVideo\\edgeimg' \n",
    "\n",
    "try:\n",
    "    makedirs(edgepath)\n",
    "except:\n",
    "    print (\"Images will be stored in the folder\")\n",
    "\n",
    "#Folder won't used\n",
    "files = os.listdir(path)\n",
    "\n",
    "for images in files:\n",
    "    img = cv2.imread(os.path.join(path , images))\n",
    "\n",
    "    #For detecting the egdes we have used Canny Edge Detection method\n",
    "    edge_image = cv2.Canny(img,250,200)\n",
    "\n",
    "    #showing Edged images\n",
    "    cv2.imwrite(os.path.join(edgepath , images) , edge_image)"
   ]
  }
 ],
 "metadata": {
  "kernelspec": {
   "display_name": "Python 3",
   "language": "python",
   "name": "python3"
  },
  "language_info": {
   "codemirror_mode": {
    "name": "ipython",
    "version": 3
   },
   "file_extension": ".py",
   "mimetype": "text/x-python",
   "name": "python",
   "nbconvert_exporter": "python",
   "pygments_lexer": "ipython3",
   "version": "3.11.2"
  },
  "orig_nbformat": 4,
  "vscode": {
   "interpreter": {
    "hash": "03474bf9724c7aa431a75de01f94db0aa44af28b392a3a18026eed30050ff127"
   }
  }
 },
 "nbformat": 4,
 "nbformat_minor": 2
}
