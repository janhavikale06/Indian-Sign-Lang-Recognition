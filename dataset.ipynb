{
 "cells": [
  {
   "attachments": {},
   "cell_type": "markdown",
   "id": "a5d74d37",
   "metadata": {},
   "source": [
    "Import the required libraries"
   ]
  },
  {
   "cell_type": "code",
   "execution_count": 1,
   "id": "c01b28e1",
   "metadata": {},
   "outputs": [],
   "source": [
    "import cv2\n",
    "import os"
   ]
  },
  {
   "attachments": {},
   "cell_type": "markdown",
   "id": "3b322ea4",
   "metadata": {},
   "source": [
    "For capturing images to make dataset"
   ]
  },
  {
   "cell_type": "code",
   "execution_count": 4,
   "id": "59ed5d0a",
   "metadata": {},
   "outputs": [
    {
     "ename": "AttributeError",
     "evalue": "'NoneType' object has no attribute 'shape'",
     "output_type": "error",
     "traceback": [
      "\u001b[1;31m---------------------------------------------------------------------------\u001b[0m",
      "\u001b[1;31mAttributeError\u001b[0m                            Traceback (most recent call last)",
      "Cell \u001b[1;32mIn[4], line 24\u001b[0m\n\u001b[0;32m      7\u001b[0m count \u001b[39m=\u001b[39m {\n\u001b[0;32m      8\u001b[0m          \u001b[39m'\u001b[39m\u001b[39mhello\u001b[39m\u001b[39m'\u001b[39m: \u001b[39mlen\u001b[39m(os\u001b[39m.\u001b[39mlistdir(directory\u001b[39m+\u001b[39m\u001b[39m\"\u001b[39m\u001b[39m/Hello\u001b[39m\u001b[39m\"\u001b[39m)),\n\u001b[0;32m      9\u001b[0m          \u001b[39m'\u001b[39m\u001b[39mgood\u001b[39m\u001b[39m'\u001b[39m: \u001b[39mlen\u001b[39m(os\u001b[39m.\u001b[39mlistdir(directory\u001b[39m+\u001b[39m\u001b[39m\"\u001b[39m\u001b[39m/Good\u001b[39m\u001b[39m\"\u001b[39m)),\n\u001b[1;32m   (...)\u001b[0m\n\u001b[0;32m     18\u001b[0m          \u001b[39m'\u001b[39m\u001b[39miloveyou\u001b[39m\u001b[39m'\u001b[39m: \u001b[39mlen\u001b[39m(os\u001b[39m.\u001b[39mlistdir(directory\u001b[39m+\u001b[39m\u001b[39m\"\u001b[39m\u001b[39m/iloveyou\u001b[39m\u001b[39m\"\u001b[39m))\n\u001b[0;32m     19\u001b[0m          }\n\u001b[0;32m     22\u001b[0m \u001b[39m#To create a frame for capturing required part \u001b[39;00m\n\u001b[1;32m---> 24\u001b[0m row \u001b[39m=\u001b[39m frame\u001b[39m.\u001b[39;49mshape[\u001b[39m1\u001b[39m]\n\u001b[0;32m     25\u001b[0m col \u001b[39m=\u001b[39m frame\u001b[39m.\u001b[39mshape[\u001b[39m0\u001b[39m]\n\u001b[0;32m     26\u001b[0m cv2\u001b[39m.\u001b[39mrectangle(frame,(\u001b[39m0\u001b[39m,\u001b[39m40\u001b[39m),(\u001b[39m300\u001b[39m,\u001b[39m400\u001b[39m),(\u001b[39m255\u001b[39m,\u001b[39m255\u001b[39m,\u001b[39m255\u001b[39m),\u001b[39m2\u001b[39m)\n",
      "\u001b[1;31mAttributeError\u001b[0m: 'NoneType' object has no attribute 'shape'"
     ]
    },
    {
     "ename": "",
     "evalue": "",
     "output_type": "error",
     "traceback": [
      "\u001b[1;31mThe Kernel crashed while executing code in the the current cell or a previous cell. Please review the code in the cell(s) to identify a possible cause of the failure. Click <a href='https://aka.ms/vscodeJupyterKernelCrash'>here</a> for more info. View Jupyter <a href='command:jupyter.viewOutput'>log</a> for further details."
     ]
    }
   ],
   "source": [
    "#To record the images needed for signs\n",
    "\n",
    "cap = cv2.VideoCapture(5)\n",
    "directory = 'Tensorflow/Images/CollectedImages/'\n",
    "while True:\n",
    "    _,frame = cap.read()\n",
    "    count = {\n",
    "             'hello': len(os.listdir(directory+\"/Hello\")),\n",
    "             'good': len(os.listdir(directory+\"/Good\")),\n",
    "             'morning': len(os.listdir(directory+\"/Morning\")),\n",
    "             'no': len(os.listdir(directory+\"/No\")),\n",
    "             'okay': len(os.listdir(directory+\"/Okay\")),\n",
    "             'thanks': len(os.listdir(directory+\"/Thanks\")),\n",
    "             'yes': len(os.listdir(directory+\"/Yes\")),\n",
    "             'smile': len(os.listdir(directory+\"/Smile\")),\n",
    "             'excuse': len(os.listdir(directory+\"/Excuse\")),\n",
    "             'iloveyou': len(os.listdir(directory+\"/iloveyou\"))\n",
    "             }\n",
    "    \n",
    "\n",
    "    #To create a frame for capturing required part \n",
    "\n",
    "    row = frame.shape[1]\n",
    "    col = frame.shape[0]\n",
    "    cv2.rectangle(frame,(0,40),(300,400),(255,255,255),2)\n",
    "    cv2.imshow(\"Data\",frame)\n",
    "    cv2.imshow(\"ROI\",frame[40:400,0:300])\n",
    "    frame = frame[40:400,0:300]\n",
    "\n",
    "\n",
    "    #To stop capturing \n",
    "\n",
    "    interrupt = cv2.waitKey(10)\n",
    "    if interrupt & 0xFF == ord('h'):\n",
    "        cv2.imwrite(directory+'Hello/'+str(count['hello'])+'.png',frame)\n",
    "    if interrupt & 0xFF == ord('g'):\n",
    "        cv2.imwrite(directory+'Good/'+str(count['good'])+'.png',frame)\n",
    "    if interrupt & 0xFF == ord('m'):\n",
    "        cv2.imwrite(directory+'Morning/'+str(count['morning'])+'.png',frame)\n",
    "    if interrupt & 0xFF == ord('n'):\n",
    "        cv2.imwrite(directory+'No/'+str(count['no'])+'.png',frame)\n",
    "    if interrupt & 0xFF == ord('o'):\n",
    "        cv2.imwrite(directory+'Okay/'+str(count['okay'])+'.png',frame)\n",
    "    if interrupt & 0xFF == ord('t'):\n",
    "        cv2.imwrite(directory+'Thanks/'+str(count['thanks'])+'.png',frame)\n",
    "    if interrupt & 0xFF == ord('y'):\n",
    "        cv2.imwrite(directory+'Yes/'+str(count['yes'])+'.png',frame)\n",
    "    if interrupt & 0xFF == ord('l'):\n",
    "        cv2.imwrite(directory+'Smile/'+str(count['smile'])+'.png',frame)\n",
    "    if interrupt & 0xFF == ord('e'):\n",
    "        cv2.imwrite(directory+'Excuse/'+str(count['excuse'])+'.png',frame)\n",
    "    if interrupt & 0xFF == ord('i'):\n",
    "        cv2.imwrite(directory+'iloveyou/'+str(count['iloveyou'])+'.png',frame)\n",
    "   \n",
    "\n",
    "#Release the video capture and close all windows\n",
    "\n",
    "cap.release()\n",
    "cv2.destroyAllWindows()"
   ]
  }
 ],
 "metadata": {
  "kernelspec": {
   "display_name": "Python 3",
   "language": "python",
   "name": "python3"
  },
  "language_info": {
   "codemirror_mode": {
    "name": "ipython",
    "version": 3
   },
   "file_extension": ".py",
   "mimetype": "text/x-python",
   "name": "python",
   "nbconvert_exporter": "python",
   "pygments_lexer": "ipython3",
   "version": "3.11.2"
  },
  "vscode": {
   "interpreter": {
    "hash": "03474bf9724c7aa431a75de01f94db0aa44af28b392a3a18026eed30050ff127"
   }
  }
 },
 "nbformat": 4,
 "nbformat_minor": 5
}
